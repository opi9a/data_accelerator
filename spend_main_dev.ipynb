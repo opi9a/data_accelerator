{
 "cells": [
  {
   "cell_type": "code",
   "execution_count": 2,
   "metadata": {
    "collapsed": true
   },
   "outputs": [],
   "source": [
    "import numpy as np\n",
    "import pandas as pd\n",
    "import matplotlib.pyplot as plt\n",
    "%matplotlib inline"
   ]
  },
  {
   "cell_type": "code",
   "execution_count": 3,
   "metadata": {
    "collapsed": false
   },
   "outputs": [
    {
     "data": {
      "text/plain": [
       "{'launch periods': 5, 'profile length': 7}"
      ]
     },
     "execution_count": 3,
     "metadata": {},
     "output_type": "execute_result"
    }
   ],
   "source": [
    "class SpendObject:\n",
    "    '''Defines a body of spending based on a period of launches (cohorts), each based on a fundamental profile and cohort growth\n",
    "    (i.e. change in magnitude of profile over successive cohorts).\n",
    "    The period for calculating spend is open:  the last period in the profile is taken to be the \"terminal\" spend,\n",
    "    which changes according to the terminal growth rate (this would normally be negative).\n",
    "    '''\n",
    "    def __init__(self, profile, launch_pers, coh_growth=0, term_growth=0):\n",
    "        self.profile = profile\n",
    "        self.launch_pers = launch_pers\n",
    "        self.prof_len = len(profile)\n",
    "        self.coh_growth = coh_growth\n",
    "        self.term_growth = term_growth\n",
    "        self.term_value = profile[-1]\n",
    "        width = 40\n",
    "        self.info = {\"launch periods\": self.launch_pers,\n",
    "                     \"profile length\": len(self.profile)}\n",
    "\n",
    "    # Takes a point in time (eg a year or other period), and calculates spend in that period on all cohorts\n",
    "    # (i.e. launches from a given period eg year)   \n",
    "    \n",
    "            \n",
    "    def _spender(self, spend_per, debug=False):\n",
    "        \n",
    "        # NB - USES ZERO-BASED INDEXING FOR EVERYTHING\n",
    "        \n",
    "        # First, define the frame by going back from the spend period by the number of launch periods\n",
    "        # This must give the actual indexes of the relevant elements of the profile for iterating\n",
    "        # Zero based, and wants to go one past the end (that's how iteration works)\n",
    "        \n",
    "        frame = (max(0, spend_per - self.launch_pers), spend_per+1)   \n",
    "        \n",
    "            # eg if spend_per is 5 (i.e. 6 periods) and there are 2 cohorts, then want indices 4-5, so frame is (3,6)\n",
    "            # DON'T UNDERSTAND WHY DON'T NEED TO ADD ONE TO SPEND_PER TO MAKE GO OFF END\n",
    "        \n",
    "        f_start, f_end = frame\n",
    "        last_coh = min(self.launch_pers, spend_per) # minus 1 to make zero based\n",
    "        \n",
    "        if debug:\n",
    "            print(\"frame \", frame, \"cohorts \", last_coh+1)\n",
    "            titles = \"prof point, coh id, raw val, coh adj, term adj, total adj,   val\".split(\",\")\n",
    "            pads = [len(t)-1 for t in titles]\n",
    "            print(\" |\".join(titles))\n",
    "\n",
    "        # Now iterate through the frame (i.e. through the cohorts), yielding the spend at the corresponding profile point,\n",
    "        # adjusted as necessary.  If the profile point is beyond the terminal, then calculate appropriately\n",
    "       \n",
    "        for i, prof_point in enumerate(range(f_start, f_end)):\n",
    "            \n",
    "            # It helps to know which cohort we're on.  The last period in the frame corresponds to the zeroth cohort.\n",
    "            # So the first will correspond to the last launch period (minus 1 to make start at zero).  \n",
    "            # Then iterate through with the index\n",
    "            coh_id = last_coh - i\n",
    "            coh_adj = (1+self.coh_growth)**coh_id # used to adjust for growth between cohorts\n",
    "            \n",
    "            if debug: print(str(prof_point).rjust(pads[0]+1), \"|\", \n",
    "                            str(coh_id).rjust(pads[1]), \"|\", end=\"\") \n",
    "                            \n",
    "            \n",
    "            # As long as the period is within the profile, yield the corresponding profile point\n",
    "            if prof_point < self.prof_len: # length is one past the last index, so this is True for terminal profile point\n",
    "                val = self.profile[prof_point] * coh_adj # adjust for cohort growth\n",
    "                \n",
    "                if debug: print(str(self.profile[prof_point]).rjust(pads[2]), \" |\", \n",
    "                                  \"{0:.3f}\".format(coh_adj).rjust(pads[3]),  \"|\",\n",
    "                                  \"-\".rjust(pads[4]), \"|\", \n",
    "                                  \"{0:.3f}\".format(coh_adj).rjust(pads[5]), \"|\", \n",
    "                                  \"{0:.3f}\".format(val).rjust(pads[6])) \n",
    "                yield val\n",
    "            \n",
    "            # If the period is beyond the profile, use the terminal value\n",
    "            else:\n",
    "                # adjust the terminal value by the cohort growth, then acc to the number of periods post terminal\n",
    "                term_adj = (1+self.term_growth)**(prof_point - self.prof_len+1)\n",
    "                val = self.term_value * coh_adj * term_adj\n",
    "                if debug: print(str(self.term_value).rjust(pads[2]), \" |\", \n",
    "                                  \"{0:.3f}\".format(coh_adj).rjust(pads[3]),  \"|\",\n",
    "                                  \"{0:.3f}\".format(term_adj).rjust(pads[4]), \"|\", \n",
    "                                  \"{0:.3f}\".format(term_adj*coh_adj).rjust(pads[5]), \"|\", \n",
    "                                  \"{0:.3f}\".format(val).rjust(pads[6])) \n",
    "                yield val\n",
    "                \n",
    "    def point_spend(self, spend_per):\n",
    "        return sum(self._spender(spend_per))\n",
    "    \n",
    "    def __getitem__(self, sl):\n",
    "        # test if it's a single index, rather than a slice\n",
    "        if isinstance(sl,int):\n",
    "            return sum(self._spender(sl))\n",
    "        else:\n",
    "            slice_out = []\n",
    "            for i in range(sl.start, sl.stop):\n",
    "                slice_out.append(sum(self._spender(i)))\n",
    "            return slice_out\n",
    "    \n",
    "    def get_np(self, max_per, debug=False):\n",
    "        np_out_list = []\n",
    "        if debug: print(self.info)\n",
    "        for i, per in enumerate(range(max_per)):\n",
    "            if debug: print(\"\\nGetting period \", per)\n",
    "            res = sum(self._spender(per, debug))\n",
    "            if debug: print(\"Period \", per, \"result \", res)\n",
    "            np_out_list.append(res)\n",
    "        return(np.array(np_out_list))\n",
    "    \n",
    "\n",
    "test_profile = np.array([1,2,5,10,11,12,1])\n",
    "coh0 = SpendObject(test_profile, 5, 0.1, -0.1)\n",
    "coh0.info"
   ]
  },
  {
   "cell_type": "code",
   "execution_count": 4,
   "metadata": {
    "collapsed": false
   },
   "outputs": [
    {
     "name": "stdout",
     "output_type": "stream",
     "text": [
      "{'launch periods': 5, 'profile length': 7}\n",
      "\n",
      "Getting period  0\n",
      "frame  (0, 1) cohorts  1\n",
      "prof point | coh id | raw val | coh adj | term adj | total adj |   val\n",
      "         0 |      0 |      1  |   1.000 |        - |     1.000 | 1.000\n",
      "Period  0 result  1.0\n",
      "\n",
      "Getting period  1\n",
      "frame  (0, 2) cohorts  2\n",
      "prof point | coh id | raw val | coh adj | term adj | total adj |   val\n",
      "         0 |      1 |      1  |   1.100 |        - |     1.100 | 1.100\n",
      "         1 |      0 |      2  |   1.000 |        - |     1.000 | 2.000\n",
      "Period  1 result  3.1\n",
      "\n",
      "Getting period  2\n",
      "frame  (0, 3) cohorts  3\n",
      "prof point | coh id | raw val | coh adj | term adj | total adj |   val\n",
      "         0 |      2 |      1  |   1.210 |        - |     1.210 | 1.210\n",
      "         1 |      1 |      2  |   1.100 |        - |     1.100 | 2.200\n",
      "         2 |      0 |      5  |   1.000 |        - |     1.000 | 5.000\n",
      "Period  2 result  8.41\n",
      "\n",
      "Getting period  3\n",
      "frame  (0, 4) cohorts  4\n",
      "prof point | coh id | raw val | coh adj | term adj | total adj |   val\n",
      "         0 |      3 |      1  |   1.331 |        - |     1.331 | 1.331\n",
      "         1 |      2 |      2  |   1.210 |        - |     1.210 | 2.420\n",
      "         2 |      1 |      5  |   1.100 |        - |     1.100 | 5.500\n",
      "         3 |      0 |     10  |   1.000 |        - |     1.000 | 10.000\n",
      "Period  3 result  19.251\n",
      "\n",
      "Getting period  4\n",
      "frame  (0, 5) cohorts  5\n",
      "prof point | coh id | raw val | coh adj | term adj | total adj |   val\n",
      "         0 |      4 |      1  |   1.464 |        - |     1.464 | 1.464\n",
      "         1 |      3 |      2  |   1.331 |        - |     1.331 | 2.662\n",
      "         2 |      2 |      5  |   1.210 |        - |     1.210 | 6.050\n",
      "         3 |      1 |     10  |   1.100 |        - |     1.100 | 11.000\n",
      "         4 |      0 |     11  |   1.000 |        - |     1.000 | 11.000\n",
      "Period  4 result  32.1761\n",
      "\n",
      "Getting period  5\n",
      "frame  (0, 6) cohorts  6\n",
      "prof point | coh id | raw val | coh adj | term adj | total adj |   val\n",
      "         0 |      5 |      1  |   1.611 |        - |     1.611 | 1.611\n",
      "         1 |      4 |      2  |   1.464 |        - |     1.464 | 2.928\n",
      "         2 |      3 |      5  |   1.331 |        - |     1.331 | 6.655\n",
      "         3 |      2 |     10  |   1.210 |        - |     1.210 | 12.100\n",
      "         4 |      1 |     11  |   1.100 |        - |     1.100 | 12.100\n",
      "         5 |      0 |     12  |   1.000 |        - |     1.000 | 12.000\n",
      "Period  5 result  47.39371\n",
      "\n",
      "Getting period  6\n",
      "frame  (1, 7) cohorts  6\n",
      "prof point | coh id | raw val | coh adj | term adj | total adj |   val\n",
      "         1 |      5 |      2  |   1.611 |        - |     1.611 | 3.221\n",
      "         2 |      4 |      5  |   1.464 |        - |     1.464 | 7.321\n",
      "         3 |      3 |     10  |   1.331 |        - |     1.331 | 13.310\n",
      "         4 |      2 |     11  |   1.210 |        - |     1.210 | 13.310\n",
      "         5 |      1 |     12  |   1.100 |        - |     1.100 | 13.200\n",
      "         6 |      0 |      1  |   1.000 |        - |     1.000 | 1.000\n",
      "Period  6 result  51.36152\n",
      "\n",
      "Getting period  7\n",
      "frame  (2, 8) cohorts  6\n",
      "prof point | coh id | raw val | coh adj | term adj | total adj |   val\n",
      "         2 |      5 |      5  |   1.611 |        - |     1.611 | 8.053\n",
      "         3 |      4 |     10  |   1.464 |        - |     1.464 | 14.641\n",
      "         4 |      3 |     11  |   1.331 |        - |     1.331 | 14.641\n",
      "         5 |      2 |     12  |   1.210 |        - |     1.210 | 14.520\n",
      "         6 |      1 |      1  |   1.100 |        - |     1.100 | 1.100\n",
      "         7 |      0 |      1  |   1.000 |    0.900 |     0.900 | 0.900\n",
      "Period  7 result  53.85455\n",
      "\n",
      "Getting period  8\n",
      "frame  (3, 9) cohorts  6\n",
      "prof point | coh id | raw val | coh adj | term adj | total adj |   val\n",
      "         3 |      5 |     10  |   1.611 |        - |     1.611 | 16.105\n",
      "         4 |      4 |     11  |   1.464 |        - |     1.464 | 16.105\n",
      "         5 |      3 |     12  |   1.331 |        - |     1.331 | 15.972\n",
      "         6 |      2 |      1  |   1.210 |        - |     1.210 | 1.210\n",
      "         7 |      1 |      1  |   1.100 |    0.900 |     0.990 | 0.990\n",
      "         8 |      0 |      1  |   1.000 |    0.810 |     0.810 | 0.810\n",
      "Period  8 result  51.1922\n",
      "\n",
      "Getting period  9\n",
      "frame  (4, 10) cohorts  6\n",
      "prof point | coh id | raw val | coh adj | term adj | total adj |   val\n",
      "         4 |      5 |     11  |   1.611 |        - |     1.611 | 17.716\n",
      "         5 |      4 |     12  |   1.464 |        - |     1.464 | 17.569\n",
      "         6 |      3 |      1  |   1.331 |        - |     1.331 | 1.331\n",
      "         7 |      2 |      1  |   1.210 |    0.900 |     1.089 | 1.089\n",
      "         8 |      1 |      1  |   1.100 |    0.810 |     0.891 | 0.891\n",
      "         9 |      0 |      1  |   1.000 |    0.729 |     0.729 | 0.729\n",
      "Period  9 result  39.32481\n"
     ]
    },
    {
     "data": {
      "text/plain": [
       "array([  1.     ,   3.1    ,   8.41   ,  19.251  ,  32.1761 ,  47.39371,\n",
       "        51.36152,  53.85455,  51.1922 ,  39.32481])"
      ]
     },
     "execution_count": 4,
     "metadata": {},
     "output_type": "execute_result"
    }
   ],
   "source": [
    "coh0.get_np(10, debug=True)"
   ]
  },
  {
   "cell_type": "code",
   "execution_count": 122,
   "metadata": {
    "collapsed": false
   },
   "outputs": [
    {
     "name": "stdout",
     "output_type": "stream",
     "text": [
      "{'launch periods': 5, 'profile length': 7}\n",
      "\n",
      "Getting period  0\n",
      "frame  (0, 1) cohorts  1\n",
      "prof point | coh id | raw val | coh adj | term adj | total adj |   val\n",
      "         0 |      0 |      1  |   1.000 |        - |     1.000 | 1.000\n",
      "Period  0 result  1.0\n",
      "\n",
      "Getting period  1\n",
      "frame  (0, 2) cohorts  2\n",
      "prof point | coh id | raw val | coh adj | term adj | total adj |   val\n",
      "         0 |      1 |      1  |   1.100 |        - |     1.100 | 1.100\n",
      "         1 |      0 |      2  |   1.000 |        - |     1.000 | 2.000\n",
      "Period  1 result  3.1\n",
      "\n",
      "Getting period  2\n",
      "frame  (0, 3) cohorts  3\n",
      "prof point | coh id | raw val | coh adj | term adj | total adj |   val\n",
      "         0 |      2 |      1  |   1.210 |        - |     1.210 | 1.210\n",
      "         1 |      1 |      2  |   1.100 |        - |     1.100 | 2.200\n",
      "         2 |      0 |      5  |   1.000 |        - |     1.000 | 5.000\n",
      "Period  2 result  8.41\n",
      "\n",
      "Getting period  3\n",
      "frame  (0, 4) cohorts  4\n",
      "prof point | coh id | raw val | coh adj | term adj | total adj |   val\n",
      "         0 |      3 |      1  |   1.331 |        - |     1.331 | 1.331\n",
      "         1 |      2 |      2  |   1.210 |        - |     1.210 | 2.420\n",
      "         2 |      1 |      5  |   1.100 |        - |     1.100 | 5.500\n",
      "         3 |      0 |     10  |   1.000 |        - |     1.000 | 10.000\n",
      "Period  3 result  19.251\n",
      "\n",
      "Getting period  4\n",
      "frame  (0, 5) cohorts  5\n",
      "prof point | coh id | raw val | coh adj | term adj | total adj |   val\n",
      "         0 |      4 |      1  |   1.464 |        - |     1.464 | 1.464\n",
      "         1 |      3 |      2  |   1.331 |        - |     1.331 | 2.662\n",
      "         2 |      2 |      5  |   1.210 |        - |     1.210 | 6.050\n",
      "         3 |      1 |     10  |   1.100 |        - |     1.100 | 11.000\n",
      "         4 |      0 |     11  |   1.000 |        - |     1.000 | 11.000\n",
      "Period  4 result  32.1761\n",
      "\n",
      "Getting period  5\n",
      "frame  (0, 6) cohorts  6\n",
      "prof point | coh id | raw val | coh adj | term adj | total adj |   val\n",
      "         0 |      5 |      1  |   1.611 |        - |     1.611 | 1.611\n",
      "         1 |      4 |      2  |   1.464 |        - |     1.464 | 2.928\n",
      "         2 |      3 |      5  |   1.331 |        - |     1.331 | 6.655\n",
      "         3 |      2 |     10  |   1.210 |        - |     1.210 | 12.100\n",
      "         4 |      1 |     11  |   1.100 |        - |     1.100 | 12.100\n",
      "         5 |      0 |     12  |   1.000 |        - |     1.000 | 12.000\n",
      "Period  5 result  47.39371\n",
      "\n",
      "Getting period  6\n",
      "frame  (1, 7) cohorts  6\n",
      "prof point | coh id | raw val | coh adj | term adj | total adj |   val\n",
      "         1 |      5 |      2  |   1.611 |        - |     1.611 | 3.221\n",
      "         2 |      4 |      5  |   1.464 |        - |     1.464 | 7.321\n",
      "         3 |      3 |     10  |   1.331 |        - |     1.331 | 13.310\n",
      "         4 |      2 |     11  |   1.210 |        - |     1.210 | 13.310\n",
      "         5 |      1 |     12  |   1.100 |        - |     1.100 | 13.200\n",
      "         6 |      0 |      1  |   1.000 |        - |     1.000 | 1.000\n",
      "Period  6 result  51.36152\n",
      "\n",
      "Getting period  7\n",
      "frame  (2, 8) cohorts  6\n",
      "prof point | coh id | raw val | coh adj | term adj | total adj |   val\n",
      "         2 |      5 |      5  |   1.611 |        - |     1.611 | 8.053\n",
      "         3 |      4 |     10  |   1.464 |        - |     1.464 | 14.641\n",
      "         4 |      3 |     11  |   1.331 |        - |     1.331 | 14.641\n",
      "         5 |      2 |     12  |   1.210 |        - |     1.210 | 14.520\n",
      "         6 |      1 |      1  |   1.100 |        - |     1.100 | 1.100\n",
      "         7 |      0 |      1  |   1.000 |    0.900 |     0.900 | 0.900\n",
      "Period  7 result  53.85455\n",
      "\n",
      "Getting period  8\n",
      "frame  (3, 9) cohorts  6\n",
      "prof point | coh id | raw val | coh adj | term adj | total adj |   val\n",
      "         3 |      5 |     10  |   1.611 |        - |     1.611 | 16.105\n",
      "         4 |      4 |     11  |   1.464 |        - |     1.464 | 16.105\n",
      "         5 |      3 |     12  |   1.331 |        - |     1.331 | 15.972\n",
      "         6 |      2 |      1  |   1.210 |        - |     1.210 | 1.210\n",
      "         7 |      1 |      1  |   1.100 |    0.900 |     0.990 | 0.990\n",
      "         8 |      0 |      1  |   1.000 |    0.810 |     0.810 | 0.810\n",
      "Period  8 result  51.1922\n",
      "\n",
      "Getting period  9\n",
      "frame  (4, 10) cohorts  6\n",
      "prof point | coh id | raw val | coh adj | term adj | total adj |   val\n",
      "         4 |      5 |     11  |   1.611 |        - |     1.611 | 17.716\n",
      "         5 |      4 |     12  |   1.464 |        - |     1.464 | 17.569\n",
      "         6 |      3 |      1  |   1.331 |        - |     1.331 | 1.331\n",
      "         7 |      2 |      1  |   1.210 |    0.900 |     1.089 | 1.089\n",
      "         8 |      1 |      1  |   1.100 |    0.810 |     0.891 | 0.891\n",
      "         9 |      0 |      1  |   1.000 |    0.729 |     0.729 | 0.729\n",
      "Period  9 result  39.32481\n",
      "\n",
      "Getting period  10\n",
      "frame  (5, 11) cohorts  6\n",
      "prof point | coh id | raw val | coh adj | term adj | total adj |   val\n",
      "         5 |      5 |     12  |   1.611 |        - |     1.611 | 19.326\n",
      "         6 |      4 |      1  |   1.464 |        - |     1.464 | 1.464\n",
      "         7 |      3 |      1  |   1.331 |    0.900 |     1.198 | 1.198\n",
      "         8 |      2 |      1  |   1.210 |    0.810 |     0.980 | 0.980\n",
      "         9 |      1 |      1  |   1.100 |    0.729 |     0.802 | 0.802\n",
      "        10 |      0 |      1  |   1.000 |    0.656 |     0.656 | 0.656\n",
      "Period  10 result  24.42622\n",
      "\n",
      "Getting period  11\n",
      "frame  (6, 12) cohorts  6\n",
      "prof point | coh id | raw val | coh adj | term adj | total adj |   val\n",
      "         6 |      5 |      1  |   1.611 |        - |     1.611 | 1.611\n",
      "         7 |      4 |      1  |   1.464 |    0.900 |     1.318 | 1.318\n",
      "         8 |      3 |      1  |   1.331 |    0.810 |     1.078 | 1.078\n",
      "         9 |      2 |      1  |   1.210 |    0.729 |     0.882 | 0.882\n",
      "        10 |      1 |      1  |   1.100 |    0.656 |     0.722 | 0.722\n",
      "        11 |      0 |      1  |   1.000 |    0.590 |     0.590 | 0.590\n",
      "Period  11 result  6.2006\n",
      "\n",
      "Getting period  12\n",
      "frame  (7, 13) cohorts  6\n",
      "prof point | coh id | raw val | coh adj | term adj | total adj |   val\n",
      "         7 |      5 |      1  |   1.611 |    0.900 |     1.449 | 1.449\n",
      "         8 |      4 |      1  |   1.464 |    0.810 |     1.186 | 1.186\n",
      "         9 |      3 |      1  |   1.331 |    0.729 |     0.970 | 0.970\n",
      "        10 |      2 |      1  |   1.210 |    0.656 |     0.794 | 0.794\n",
      "        11 |      1 |      1  |   1.100 |    0.590 |     0.650 | 0.650\n",
      "        12 |      0 |      1  |   1.000 |    0.531 |     0.531 | 0.531\n",
      "Period  12 result  5.58054\n",
      "\n",
      "Getting period  13\n",
      "frame  (8, 14) cohorts  6\n",
      "prof point | coh id | raw val | coh adj | term adj | total adj |   val\n",
      "         8 |      5 |      1  |   1.611 |    0.810 |     1.305 | 1.305\n",
      "         9 |      4 |      1  |   1.464 |    0.729 |     1.067 | 1.067\n",
      "        10 |      3 |      1  |   1.331 |    0.656 |     0.873 | 0.873\n",
      "        11 |      2 |      1  |   1.210 |    0.590 |     0.714 | 0.714\n",
      "        12 |      1 |      1  |   1.100 |    0.531 |     0.585 | 0.585\n",
      "        13 |      0 |      1  |   1.000 |    0.478 |     0.478 | 0.478\n",
      "Period  13 result  5.022486\n",
      "\n",
      "Getting period  14\n",
      "frame  (9, 15) cohorts  6\n",
      "prof point | coh id | raw val | coh adj | term adj | total adj |   val\n",
      "         9 |      5 |      1  |   1.611 |    0.729 |     1.174 | 1.174\n",
      "        10 |      4 |      1  |   1.464 |    0.656 |     0.961 | 0.961\n",
      "        11 |      3 |      1  |   1.331 |    0.590 |     0.786 | 0.786\n",
      "        12 |      2 |      1  |   1.210 |    0.531 |     0.643 | 0.643\n",
      "        13 |      1 |      1  |   1.100 |    0.478 |     0.526 | 0.526\n",
      "        14 |      0 |      1  |   1.000 |    0.430 |     0.430 | 0.430\n",
      "Period  14 result  4.5202374\n",
      "\n",
      "Getting period  15\n",
      "frame  (10, 16) cohorts  6\n",
      "prof point | coh id | raw val | coh adj | term adj | total adj |   val\n",
      "        10 |      5 |      1  |   1.611 |    0.656 |     1.057 | 1.057\n",
      "        11 |      4 |      1  |   1.464 |    0.590 |     0.865 | 0.865\n",
      "        12 |      3 |      1  |   1.331 |    0.531 |     0.707 | 0.707\n",
      "        13 |      2 |      1  |   1.210 |    0.478 |     0.579 | 0.579\n",
      "        14 |      1 |      1  |   1.100 |    0.430 |     0.474 | 0.474\n",
      "        15 |      0 |      1  |   1.000 |    0.387 |     0.387 | 0.387\n",
      "Period  15 result  4.06821366\n",
      "\n",
      "Getting period  16\n",
      "frame  (11, 17) cohorts  6\n",
      "prof point | coh id | raw val | coh adj | term adj | total adj |   val\n",
      "        11 |      5 |      1  |   1.611 |    0.590 |     0.951 | 0.951\n",
      "        12 |      4 |      1  |   1.464 |    0.531 |     0.778 | 0.778\n",
      "        13 |      3 |      1  |   1.331 |    0.478 |     0.637 | 0.637\n",
      "        14 |      2 |      1  |   1.210 |    0.430 |     0.521 | 0.521\n",
      "        15 |      1 |      1  |   1.100 |    0.387 |     0.426 | 0.426\n",
      "        16 |      0 |      1  |   1.000 |    0.349 |     0.349 | 0.349\n",
      "Period  16 result  3.661392294\n",
      "\n",
      "Getting period  17\n",
      "frame  (12, 18) cohorts  6\n",
      "prof point | coh id | raw val | coh adj | term adj | total adj |   val\n",
      "        12 |      5 |      1  |   1.611 |    0.531 |     0.856 | 0.856\n",
      "        13 |      4 |      1  |   1.464 |    0.478 |     0.700 | 0.700\n",
      "        14 |      3 |      1  |   1.331 |    0.430 |     0.573 | 0.573\n",
      "        15 |      2 |      1  |   1.210 |    0.387 |     0.469 | 0.469\n",
      "        16 |      1 |      1  |   1.100 |    0.349 |     0.384 | 0.384\n",
      "        17 |      0 |      1  |   1.000 |    0.314 |     0.314 | 0.314\n",
      "Period  17 result  3.2952530646\n",
      "\n",
      "Getting period  18\n",
      "frame  (13, 19) cohorts  6\n",
      "prof point | coh id | raw val | coh adj | term adj | total adj |   val\n",
      "        13 |      5 |      1  |   1.611 |    0.478 |     0.770 | 0.770\n",
      "        14 |      4 |      1  |   1.464 |    0.430 |     0.630 | 0.630\n",
      "        15 |      3 |      1  |   1.331 |    0.387 |     0.516 | 0.516\n",
      "        16 |      2 |      1  |   1.210 |    0.349 |     0.422 | 0.422\n",
      "        17 |      1 |      1  |   1.100 |    0.314 |     0.345 | 0.345\n",
      "        18 |      0 |      1  |   1.000 |    0.282 |     0.282 | 0.282\n",
      "Period  18 result  2.96572775814\n",
      "\n",
      "Getting period  19\n",
      "frame  (14, 20) cohorts  6\n",
      "prof point | coh id | raw val | coh adj | term adj | total adj |   val\n",
      "        14 |      5 |      1  |   1.611 |    0.430 |     0.693 | 0.693\n",
      "        15 |      4 |      1  |   1.464 |    0.387 |     0.567 | 0.567\n",
      "        16 |      3 |      1  |   1.331 |    0.349 |     0.464 | 0.464\n",
      "        17 |      2 |      1  |   1.210 |    0.314 |     0.380 | 0.380\n",
      "        18 |      1 |      1  |   1.100 |    0.282 |     0.311 | 0.311\n",
      "        19 |      0 |      1  |   1.000 |    0.254 |     0.254 | 0.254\n",
      "Period  19 result  2.66915498233\n"
     ]
    },
    {
     "data": {
      "text/plain": [
       "array([  1.        ,   3.1       ,   8.41      ,  19.251     ,\n",
       "        32.1761    ,  47.39371   ,  51.36152   ,  53.85455   ,\n",
       "        51.1922    ,  39.32481   ,  24.42622   ,   6.2006    ,\n",
       "         5.58054   ,   5.022486  ,   4.5202374 ,   4.06821366,\n",
       "         3.66139229,   3.29525306,   2.96572776,   2.66915498])"
      ]
     },
     "execution_count": 122,
     "metadata": {},
     "output_type": "execute_result"
    }
   ],
   "source": [
    "new_coh = SpendObject(test_profile, 5, 0.1, -0.1)\n",
    "\n",
    "new_coh.get_np(20, debug=True)"
   ]
  },
  {
   "cell_type": "code",
   "execution_count": 123,
   "metadata": {
    "collapsed": false
   },
   "outputs": [
    {
     "data": {
      "text/plain": [
       "51.192200000000028"
      ]
     },
     "execution_count": 123,
     "metadata": {},
     "output_type": "execute_result"
    }
   ],
   "source": [
    "new_coh[8]"
   ]
  },
  {
   "cell_type": "code",
   "execution_count": 367,
   "metadata": {
    "collapsed": false
   },
   "outputs": [
    {
     "data": {
      "text/plain": [
       "0.1"
      ]
     },
     "execution_count": 367,
     "metadata": {},
     "output_type": "execute_result"
    }
   ],
   "source": [
    "coh1.coh_growth"
   ]
  },
  {
   "cell_type": "code",
   "execution_count": 363,
   "metadata": {
    "collapsed": false
   },
   "outputs": [
    {
     "data": {
      "text/plain": [
       "[<matplotlib.lines.Line2D at 0xb065990>]"
      ]
     },
     "execution_count": 363,
     "metadata": {},
     "output_type": "execute_result"
    },
    {
     "data": {
      "image/png": "[encoded data removed]",
      "text/plain": [
       "<matplotlib.figure.Figure at 0xb0b24b0>"
      ]
     },
     "metadata": {},
     "output_type": "display_data"
    }
   ],
   "source": [
    "plt.plot(coh0.get_np(20))"
   ]
  },
  {
   "cell_type": "code",
   "execution_count": 364,
   "metadata": {
    "collapsed": false
   },
   "outputs": [
    {
     "data": {
      "text/plain": [
       "[<matplotlib.lines.Line2D at 0xb0028d0>]"
      ]
     },
     "execution_count": 364,
     "metadata": {},
     "output_type": "execute_result"
    },
    {
     "data": {
      "image/png": "[encoded data removed]",
      "text/plain": [
       "<matplotlib.figure.Figure at 0xac1a8d0>"
      ]
     },
     "metadata": {},
     "output_type": "display_data"
    }
   ],
   "source": [
    "plt.plot(coh1.get_np(20))"
   ]
  },
  {
   "cell_type": "code",
   "execution_count": 347,
   "metadata": {
    "collapsed": false
   },
   "outputs": [
    {
     "data": {
      "text/plain": [
       "array([  0.        ,   1.        ,   3.        ,   8.        ,\n",
       "        18.        ,  28.        ,  40.        ,  52.        ,\n",
       "        57.15      ,  60.015     ,  58.6665    ,  58.18315   ,\n",
       "        56.651465  ,  55.1666115 ,  60.68327265,  66.75159992,\n",
       "        73.42675991,  80.7694359 ,  88.84637949,  97.73101744])"
      ]
     },
     "execution_count": 347,
     "metadata": {},
     "output_type": "execute_result"
    }
   ],
   "source": [
    "coh.get_np(20)"
   ]
  },
  {
   "cell_type": "code",
   "execution_count": 159,
   "metadata": {
    "collapsed": false
   },
   "outputs": [
    {
     "name": "stdout",
     "output_type": "stream",
     "text": [
      "slice(5, 10, None)\n"
     ]
    },
    {
     "data": {
      "text/plain": [
       "[29, 41, 53, 57.5, 59.0]"
      ]
     },
     "execution_count": 159,
     "metadata": {},
     "output_type": "execute_result"
    }
   ],
   "source": [
    "coh[5:10]"
   ]
  },
  {
   "cell_type": "code",
   "execution_count": 348,
   "metadata": {
    "collapsed": false
   },
   "outputs": [
    {
     "data": {
      "text/plain": [
       "[<matplotlib.lines.Line2D at 0xb2822f0>]"
      ]
     },
     "execution_count": 348,
     "metadata": {},
     "output_type": "execute_result"
    },
    {
     "data": {
      "image/png": "[encoded data removed]",
      "text/plain": [
       "<matplotlib.figure.Figure at 0xb242750>"
      ]
     },
     "metadata": {},
     "output_type": "display_data"
    }
   ],
   "source": [
    "out_list1 = []\n",
    "for x in range(20):\n",
    "    out_list1.append(coh.point_spend(x))\n",
    "plt.plot(out_list1)"
   ]
  },
  {
   "cell_type": "code",
   "execution_count": 349,
   "metadata": {
    "collapsed": false
   },
   "outputs": [],
   "source": [
    "launches_list = list(range(5, 10, 1))\n",
    "objs_out = []\n",
    "for launch in launches_list:\n",
    "    cohx = SpendObject(test_profile, launch)\n",
    "    objs_out.append(cohx)\n",
    "    "
   ]
  },
  {
   "cell_type": "code",
   "execution_count": 350,
   "metadata": {
    "collapsed": false
   },
   "outputs": [],
   "source": [
    "nps_out = []\n",
    "for obj in objs_out:\n",
    "    nps_out.append(obj.get_np(20))\n"
   ]
  },
  {
   "cell_type": "code",
   "execution_count": 351,
   "metadata": {
    "collapsed": false
   },
   "outputs": [
    {
     "data": {
      "text/plain": [
       "5"
      ]
     },
     "execution_count": 351,
     "metadata": {},
     "output_type": "execute_result"
    }
   ],
   "source": [
    "len(nps_out)"
   ]
  },
  {
   "cell_type": "code",
   "execution_count": 352,
   "metadata": {
    "collapsed": false
   },
   "outputs": [
    {
     "data": {
      "text/plain": [
       "[<matplotlib.collections.PolyCollection at 0xc2b4350>,\n",
       " <matplotlib.collections.PolyCollection at 0xc2b4770>,\n",
       " <matplotlib.collections.PolyCollection at 0xc2b4790>,\n",
       " <matplotlib.collections.PolyCollection at 0xc2b4eb0>,\n",
       " <matplotlib.collections.PolyCollection at 0xc2bf310>]"
      ]
     },
     "execution_count": 352,
     "metadata": {},
     "output_type": "execute_result"
    },
    {
     "data": {
      "image/png": "[encoded data removed]",
      "text/plain": [
       "<matplotlib.figure.Figure at 0xb22d910>"
      ]
     },
     "metadata": {},
     "output_type": "display_data"
    }
   ],
   "source": [
    "plt.style.use('ggplot')\n",
    "plt.stackplot(range(0,20),nps_out)"
   ]
  },
  {
   "cell_type": "code",
   "execution_count": 444,
   "metadata": {
    "collapsed": false
   },
   "outputs": [
    {
     "data": {
      "text/plain": [
       "[<matplotlib.lines.Line2D at 0xc6ad550>]"
      ]
     },
     "execution_count": 444,
     "metadata": {},
     "output_type": "execute_result"
    },
    {
     "data": {
      "image/png": "[encoded data removed]",
      "text/plain": [
       "<matplotlib.figure.Figure at 0xc591970>"
      ]
     },
     "metadata": {},
     "output_type": "display_data"
    }
   ],
   "source": [
    "coh = SpendObject(test_profile, 100, 0.1, -0.01)\n",
    "plt.plot(coh.get_np(200))\n"
   ]
  }
 ],
 "metadata": {
  "kernelspec": {
   "display_name": "Python 3",
   "language": "python",
   "name": "python3"
  },
  "language_info": {
   "codemirror_mode": {
    "name": "ipython",
    "version": 3
   },
   "file_extension": ".py",
   "mimetype": "text/x-python",
   "name": "python",
   "nbconvert_exporter": "python",
   "pygments_lexer": "ipython3",
   "version": "3.6.0"
  }
 },
 "nbformat": 4,
 "nbformat_minor": 2
}
