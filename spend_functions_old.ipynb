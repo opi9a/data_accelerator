{
 "cells": [
  {
   "cell_type": "code",
   "execution_count": 92,
   "metadata": {
    "collapsed": true
   },
   "outputs": [],
   "source": [
    "import numpy as np\n",
    "import pandas as pd\n",
    "import matplotlib.pyplot as plt\n",
    "%matplotlib inline"
   ]
  },
  {
   "cell_type": "code",
   "execution_count": 535,
   "metadata": {
    "collapsed": false
   },
   "outputs": [],
   "source": [
    "# env variables - need to be created already or passed as args\n",
    "# test_profile = np.array([1,2,5,10,11,12,13])\n",
    "launch_pers = 6\n",
    "terminal = len(test_profile)\n",
    "coh_growth = 0.1\n",
    "term_growth = -0.\n",
    "\n",
    "def debug_out(spend_per):\n",
    "    start = max(0,spend_per - launch_pers)\n",
    "    width = 50\n",
    "    print(\"launch period duration (no. of periodic cohorts)\".ljust(width), launch_pers)\n",
    "    print(\"profile length (to terminal)\".ljust(width), terminal)\n",
    "    print(\"spend period requested \".ljust(width), spend_per)\n",
    "#     print(\"oldest active cohort (first is zero)\".ljust(width), max(0,spend_per - terminal))\n",
    "#     print(\"newest active cohort (first is zero)\".ljust(width), min(launch_pers, spend_per)-1) # -1 to make zero based\n",
    "    actives = max(0,min(launch_pers,spend_per,terminal)-max(0,spend_per-terminal))\n",
    "    print(\"number active cohorts \".ljust(width), actives)\n",
    "    print(\"slice start at profile period / value\".ljust(width), start, \"/\", test_profile[min(start,terminal-1)])\n",
    "    print(\"start to terminal\".ljust(width), test_profile[start:min(spend_per, terminal)])\n",
    "    print(\"number of terminal periods\".ljust(width), max(0,spend_per - terminal))\n",
    "    print(\"cohort growth \".ljust(width), coh_growth)\n",
    "    print(\"terminal growth \".ljust(width), term_growth)\n",
    "    print(\"\")"
   ]
  },
  {
   "cell_type": "code",
   "execution_count": 569,
   "metadata": {
    "collapsed": false
   },
   "outputs": [
    {
     "name": "stdout",
     "output_type": "stream",
     "text": [
      "launch period duration (no. of periodic cohorts)   5\n",
      "profile length (to terminal)                       5\n",
      "spend period requested                             12\n",
      "number active cohorts                              0\n",
      "slice start at profile period / value              7 / 11\n",
      "start to terminal                                  []\n",
      "number of terminal periods                         7\n",
      "cohort growth                                      0\n",
      "terminal growth                                    -0.0\n",
      "\n",
      "frame  (7, 12)\n",
      "prof point  7 coh id  4 value  1 term mult 1.0\n",
      "prof point  8 coh id  3 value  1 term mult 1.0\n",
      "prof point  9 coh id  2 value  1 term mult 1.0\n",
      "prof point  10 coh id  1 value  1 term mult 1.0\n",
      "prof point  11 coh id  0 value  1 term mult 1.0\n"
     ]
    },
    {
     "data": {
      "text/plain": [
       "[1.0, 1.0, 1.0, 1.0, 1.0]"
      ]
     },
     "execution_count": 569,
     "metadata": {},
     "output_type": "execute_result"
    }
   ],
   "source": [
    "test_profile = np.array([1,2,5,10,11,12,1])\n",
    "term_value = test_profile[-1]*1\n",
    "launch_pers = 5\n",
    "\n",
    "def spender(spend_per, debug=True):\n",
    "    if debug: debug_out(spend_per)\n",
    "    frame=(max(0, spend_per - launch_pers), spend_per)\n",
    "    f_start, f_end = frame\n",
    "    if debug: print(\"frame \", frame)\n",
    "    for prof_point in range(f_start, f_end):\n",
    "        coh_id = min(launch_pers, spend_per)-(prof_point-f_start) - 1\n",
    "        if debug: \n",
    "            print(\"prof point \", prof_point, \"coh id \", coh_id, end= \" \")\n",
    "        if prof_point < len(test_profile):\n",
    "            if debug: \n",
    "                print(\"value \", test_profile[prof_point], \"coh mult\",((1+coh_growth)**coh_id))\n",
    "            yield test_profile[prof_point]  * ((1+coh_growth)**coh_id) \n",
    "        else:\n",
    "            term_out = term_value  * ((1+coh_growth)**coh_id) * ((1+term_growth)**(prof_point - len(test_profile)+1))\n",
    "            if debug: print(\"value \", term_value, \"term mult\",((1+coh_growth)**coh_id) * ((1+term_growth)**(prof_point - len(test_profile)+1)))\n",
    "            yield term_out\n",
    "\n",
    "list(spender(12))\n",
    "# for x in range(20):\n",
    "#     print(sum(spender(x, debug=False)))"
   ]
  },
  {
   "cell_type": "code",
   "execution_count": 429,
   "metadata": {
    "collapsed": false
   },
   "outputs": [
    {
     "name": "stdout",
     "output_type": "stream",
     "text": [
      "[0, 1.0, 2.0, 3.0, 4.0, 5.0, 5.0, 5.0, 5.0999999999999996, 5.3099999999999996, 5.6410000000000009, 6.1051000000000011, 6.7156100000000016, 7.3871710000000022, 8.1258881000000027, 8.9384769100000057, 9.8323246010000069, 10.815557061100009, 11.897112767210009, 13.08682404393101]\n"
     ]
    },
    {
     "data": {
      "text/plain": [
       "[<matplotlib.lines.Line2D at 0xc3e9190>]"
      ]
     },
     "execution_count": 429,
     "metadata": {},
     "output_type": "execute_result"
    },
    {
     "data": {
      "image/png": "[encoded data removed]",
      "text/plain": [
       "<matplotlib.figure.Figure at 0xc38fcd0>"
      ]
     },
     "metadata": {},
     "output_type": "display_data"
    }
   ],
   "source": [
    "out_list = []\n",
    "for i in range(20):\n",
    "    out_list.append(sum(spender(i, debug=False)))\n",
    "print(out_list)\n",
    "plt.plot(out_list)"
   ]
  },
  {
   "cell_type": "code",
   "execution_count": 571,
   "metadata": {
    "collapsed": false
   },
   "outputs": [
    {
     "data": {
      "text/plain": [
       "{'launch periods': 6, 'profile length': 7}"
      ]
     },
     "execution_count": 571,
     "metadata": {},
     "output_type": "execute_result"
    }
   ],
   "source": [
    "class SpendObject:\n",
    "    '''Defines a body of spending based on a period of launches (cohorts), each based on a fundamental profile and cohort growth\n",
    "    (i.e. change in magnitude of profile over successive cohorts).\n",
    "    The period for calculating spend is open:  the last period in the profile is taken to be the \"terminal\" spend,\n",
    "    which changes according to the terminal growth rate (this would normally be negative).\n",
    "    '''\n",
    "    def __init__(self, profile, launch_pers, coh_growth=0, term_growth=0):\n",
    "        self.profile = profile\n",
    "        self.launch_pers = launch_pers\n",
    "        self.prof_len = len(profile)\n",
    "        self.coh_growth = coh_growth\n",
    "        self.term_growth = term_growth\n",
    "        self.term_value = profile[-1]\n",
    "        width = 40\n",
    "        self.info = {\"launch periods\": self.launch_pers,\n",
    "                     \"profile length\": len(self.profile)}\n",
    "    \n",
    "#     self.info = \"W\" # (\"\\n\".join(\"\".join(\"launch periods: \", str(launch_pers).ljust(width)),\n",
    "#                              \"\".join(\"profile length: \", str(len(profile)).ljust(width)))\n",
    "\n",
    "    # Takes a point in time (eg a year or other period), and calculates spend in that period on all cohorts\n",
    "    # (i.e. launches from a given period eg year)   \n",
    "    \n",
    "#     def spender(spend_per, debug=True):\n",
    "#         if debug: debug_out(spend_per)\n",
    "#         frame=(max(0, spend_per - launch_pers), spend_per)\n",
    "#         f_start, f_end = frame\n",
    "#         if debug: print(\"frame \", frame)\n",
    "#         for prof_point in range(f_start, f_end):\n",
    "#             coh_id = min(launch_pers, spend_per)-(prof_point-f_start) - 1\n",
    "#             if debug: \n",
    "#                 print(\"prof point \", prof_point, \"coh id \", coh_id, end= \" \")\n",
    "#             if prof_point < len(test_profile):\n",
    "#                 if debug: \n",
    "#                     print(\"value \", test_profile[prof_point], \"coh mult\",((1+coh_growth)**coh_id))\n",
    "#                 yield test_profile[prof_point]  * ((1+coh_growth)**coh_id) \n",
    "#             else:\n",
    "#                 term_out = term_value  * ((1+coh_growth)**coh_id) * ((1+term_growth)**(prof_point - len(test_profile)+1))\n",
    "#                 if debug: print(\"value \", term_value, \"term mult\",((1+coh_growth)**coh_id) * ((1+term_growth)**(prof_point - len(test_profile)+1)))\n",
    "#                 yield term_out\n",
    "\n",
    "            \n",
    "    def _spender(self, spend_per, debug=False):\n",
    "        if debug: debug_out(spend_per)\n",
    "\n",
    "        # Conceptually define a frame going backwards from the spend period for the number of periods of launches\n",
    "        # - that is, encompassing the spend in that period for each of the launch cohorts.\n",
    "        # Ignoring growth, the components of this frame will be the same as if the frame is applied\n",
    "        # to the underlying profile.  That is, for a spend period of n, spend in the zeroth cohort will be the \n",
    "        # nth point in the profile. Spend in period n on products in the 1st cohort will be the (n-1)th point in the profile.\n",
    "        # Iterate through the frame as applied to the profile.  So the zeroth element in the frame will be the \n",
    "        # profile spend corresponding to the spend period minus the number of launch periods (the length of the frame).  \n",
    "        # The last period in the frame will be the profile spend corresponding to the spend period. \n",
    "        \n",
    "        # First, define the frame by going back from the spend period by the number of launch periods\n",
    "        frame = (max(0, spend_per - launch_pers), spend_per)   \n",
    "        f_start, f_end = frame\n",
    "        # Now iterate through the frame (i.e. through the cohorts), yielding the spend at the corresponding profile point,\n",
    "        # adjusted as necessary.  If the profile point is beyond the terminal, then calculate appropriately\n",
    "        for prof_point in range(f_start, f_end):\n",
    "            # It helps to know which cohort we're on.  The last period in the frame corresponds to the zeroth cohort.\n",
    "            # So the first will correspond to the last launch period (minus 1 to make start at zero).  \n",
    "            # Then iterate through with the index\n",
    "            coh_id = min(self.launch_pers, spend_per)-(prof_point-f_start) - 1\n",
    "            if debug: print(\"coh_id \", coh_id)\n",
    "            \n",
    "            # As long as the period is within the profile, yield the corresponding profile point\n",
    "            if prof_point < self.prof_len:\n",
    "                # adjust for cohort growth\n",
    "                yield self.profile[prof_point] * ((1+self.coh_growth)** coh_id)\n",
    "            \n",
    "            # If the period is beyond the profile, use the terminal value\n",
    "            else:\n",
    "                # adjust the terminal value by the cohort growth, then acc to the number of periods post terminal\n",
    "                yield self.term_value \\\n",
    "                        * ((1+self.coh_growth)**coh_id) \\\n",
    "                        * ((1+self.term_growth)**(prof_point - self.prof_len+1))\n",
    "                \n",
    "    def point_spend(self, spend_per):\n",
    "        return sum(self._spender(spend_per))\n",
    "    \n",
    "    def __getitem__(self, sl):\n",
    "        # test if it's a single index, rather than a slice\n",
    "        if isinstance(sl,int):\n",
    "            return sum(self._spender(sl))\n",
    "        else:\n",
    "            slice_out = []\n",
    "            for i in range(sl.start, sl.stop):\n",
    "                slice_out.append(sum(self._spender(i)))\n",
    "            return slice_out\n",
    "    \n",
    "    def get_np(self, max_per, debug=False):\n",
    "        np_out_list = []\n",
    "        for i, per in enumerate(range(max_per)):\n",
    "            np_out_list.append(sum(self._spender(per, debug)))\n",
    "        return(np.array(np_out_list))\n",
    "    \n",
    "\n",
    "coh0 = SpendObject(test_profile, 5, 0.1, -0.1)\n",
    "coh0.info"
   ]
  },
  {
   "cell_type": "code",
   "execution_count": 578,
   "metadata": {
    "collapsed": false
   },
   "outputs": [
    {
     "data": {
      "text/plain": [
       "array([  0.        ,   1.        ,   3.1       ,   8.41      ,\n",
       "        19.251     ,  32.1761    ,  45.7832    ,  48.1405    ,\n",
       "        45.802     ,  35.0871    ,  21.6092    ,   5.1001    ,\n",
       "         4.59009   ,   4.131081  ,   3.7179729 ,   3.34617561,\n",
       "         3.01155805,   2.71040224,   2.43936202,   2.19542582])"
      ]
     },
     "execution_count": 578,
     "metadata": {},
     "output_type": "execute_result"
    }
   ],
   "source": [
    "new_coh = SpendObject(test_profile, 5, 0.1, -0.1)\n",
    "\n",
    "new_coh.get_np(20)"
   ]
  },
  {
   "cell_type": "code",
   "execution_count": 367,
   "metadata": {
    "collapsed": false
   },
   "outputs": [
    {
     "data": {
      "text/plain": [
       "0.1"
      ]
     },
     "execution_count": 367,
     "metadata": {},
     "output_type": "execute_result"
    }
   ],
   "source": [
    "coh1.coh_growth"
   ]
  },
  {
   "cell_type": "code",
   "execution_count": 363,
   "metadata": {
    "collapsed": false
   },
   "outputs": [
    {
     "data": {
      "text/plain": [
       "[<matplotlib.lines.Line2D at 0xb065990>]"
      ]
     },
     "execution_count": 363,
     "metadata": {},
     "output_type": "execute_result"
    },
    {
     "data": {
      "image/png": "[encoded data removed]",
      "text/plain": [
       "<matplotlib.figure.Figure at 0xb0b24b0>"
      ]
     },
     "metadata": {},
     "output_type": "display_data"
    }
   ],
   "source": [
    "plt.plot(coh0.get_np(20))"
   ]
  },
  {
   "cell_type": "code",
   "execution_count": 364,
   "metadata": {
    "collapsed": false
   },
   "outputs": [
    {
     "data": {
      "text/plain": [
       "[<matplotlib.lines.Line2D at 0xb0028d0>]"
      ]
     },
     "execution_count": 364,
     "metadata": {},
     "output_type": "execute_result"
    },
    {
     "data": {
      "image/png": "[encoded data removed]",
      "text/plain": [
       "<matplotlib.figure.Figure at 0xac1a8d0>"
      ]
     },
     "metadata": {},
     "output_type": "display_data"
    }
   ],
   "source": [
    "plt.plot(coh1.get_np(20))"
   ]
  },
  {
   "cell_type": "code",
   "execution_count": 347,
   "metadata": {
    "collapsed": false
   },
   "outputs": [
    {
     "data": {
      "text/plain": [
       "array([  0.        ,   1.        ,   3.        ,   8.        ,\n",
       "        18.        ,  28.        ,  40.        ,  52.        ,\n",
       "        57.15      ,  60.015     ,  58.6665    ,  58.18315   ,\n",
       "        56.651465  ,  55.1666115 ,  60.68327265,  66.75159992,\n",
       "        73.42675991,  80.7694359 ,  88.84637949,  97.73101744])"
      ]
     },
     "execution_count": 347,
     "metadata": {},
     "output_type": "execute_result"
    }
   ],
   "source": [
    "coh.get_np(20)"
   ]
  },
  {
   "cell_type": "code",
   "execution_count": 159,
   "metadata": {
    "collapsed": false
   },
   "outputs": [
    {
     "name": "stdout",
     "output_type": "stream",
     "text": [
      "slice(5, 10, None)\n"
     ]
    },
    {
     "data": {
      "text/plain": [
       "[29, 41, 53, 57.5, 59.0]"
      ]
     },
     "execution_count": 159,
     "metadata": {},
     "output_type": "execute_result"
    }
   ],
   "source": [
    "coh[5:10]"
   ]
  },
  {
   "cell_type": "code",
   "execution_count": 348,
   "metadata": {
    "collapsed": false
   },
   "outputs": [
    {
     "data": {
      "text/plain": [
       "[<matplotlib.lines.Line2D at 0xb2822f0>]"
      ]
     },
     "execution_count": 348,
     "metadata": {},
     "output_type": "execute_result"
    },
    {
     "data": {
      "image/png": "[encoded data removed]",
      "text/plain": [
       "<matplotlib.figure.Figure at 0xb242750>"
      ]
     },
     "metadata": {},
     "output_type": "display_data"
    }
   ],
   "source": [
    "out_list1 = []\n",
    "for x in range(20):\n",
    "    out_list1.append(coh.point_spend(x))\n",
    "plt.plot(out_list1)"
   ]
  },
  {
   "cell_type": "code",
   "execution_count": 349,
   "metadata": {
    "collapsed": false
   },
   "outputs": [],
   "source": [
    "launches_list = list(range(5, 10, 1))\n",
    "objs_out = []\n",
    "for launch in launches_list:\n",
    "    cohx = SpendObject(test_profile, launch)\n",
    "    objs_out.append(cohx)\n",
    "    "
   ]
  },
  {
   "cell_type": "code",
   "execution_count": 350,
   "metadata": {
    "collapsed": false
   },
   "outputs": [],
   "source": [
    "nps_out = []\n",
    "for obj in objs_out:\n",
    "    nps_out.append(obj.get_np(20))\n"
   ]
  },
  {
   "cell_type": "code",
   "execution_count": 351,
   "metadata": {
    "collapsed": false
   },
   "outputs": [
    {
     "data": {
      "text/plain": [
       "5"
      ]
     },
     "execution_count": 351,
     "metadata": {},
     "output_type": "execute_result"
    }
   ],
   "source": [
    "len(nps_out)"
   ]
  },
  {
   "cell_type": "code",
   "execution_count": 352,
   "metadata": {
    "collapsed": false
   },
   "outputs": [
    {
     "data": {
      "text/plain": [
       "[<matplotlib.collections.PolyCollection at 0xc2b4350>,\n",
       " <matplotlib.collections.PolyCollection at 0xc2b4770>,\n",
       " <matplotlib.collections.PolyCollection at 0xc2b4790>,\n",
       " <matplotlib.collections.PolyCollection at 0xc2b4eb0>,\n",
       " <matplotlib.collections.PolyCollection at 0xc2bf310>]"
      ]
     },
     "execution_count": 352,
     "metadata": {},
     "output_type": "execute_result"
    },
    {
     "data": {
      "image/png": "[encoded data removed]",
      "text/plain": [
       "<matplotlib.figure.Figure at 0xb22d910>"
      ]
     },
     "metadata": {},
     "output_type": "display_data"
    }
   ],
   "source": [
    "plt.style.use('ggplot')\n",
    "plt.stackplot(range(0,20),nps_out)"
   ]
  },
  {
   "cell_type": "code",
   "execution_count": 444,
   "metadata": {
    "collapsed": false
   },
   "outputs": [
    {
     "data": {
      "text/plain": [
       "[<matplotlib.lines.Line2D at 0xc6ad550>]"
      ]
     },
     "execution_count": 444,
     "metadata": {},
     "output_type": "execute_result"
    },
    {
     "data": {
      "image/png": "[encoded data removed]",
      "text/plain": [
       "<matplotlib.figure.Figure at 0xc591970>"
      ]
     },
     "metadata": {},
     "output_type": "display_data"
    }
   ],
   "source": [
    "coh = SpendObject(test_profile, 100, 0.1, -0.01)\n",
    "plt.plot(coh.get_np(200))\n"
   ]
  }
 ],
 "metadata": {
  "kernelspec": {
   "display_name": "Python 3",
   "language": "python",
   "name": "python3"
  },
  "language_info": {
   "codemirror_mode": {
    "name": "ipython",
    "version": 3
   },
   "file_extension": ".py",
   "mimetype": "text/x-python",
   "name": "python",
   "nbconvert_exporter": "python",
   "pygments_lexer": "ipython3",
   "version": "3.6.0"
  }
 },
 "nbformat": 4,
 "nbformat_minor": 2
}
